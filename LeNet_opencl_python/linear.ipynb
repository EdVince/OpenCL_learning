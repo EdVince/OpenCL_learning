{
 "cells": [
  {
   "cell_type": "code",
   "execution_count": 1,
   "metadata": {},
   "outputs": [],
   "source": [
    "import pyopencl as cl\n",
    "import pyopencl.array as cl_array\n",
    "import numpy as np\n",
    "import numpy.linalg as la\n",
    "import math\n",
    "import torch\n",
    "import torch.nn as nn\n",
    "import torch.functional as F"
   ]
  },
  {
   "cell_type": "code",
   "execution_count": 2,
   "metadata": {},
   "outputs": [],
   "source": [
    "%load_ext pyopencl.ipython_ext"
   ]
  },
  {
   "cell_type": "code",
   "execution_count": 3,
   "metadata": {},
   "outputs": [],
   "source": [
    "ctx = cl.create_some_context()\n",
    "queue = cl.CommandQueue(ctx)\n",
    "mf = cl.mem_flags"
   ]
  },
  {
   "cell_type": "code",
   "execution_count": null,
   "metadata": {},
   "outputs": [],
   "source": []
  },
  {
   "cell_type": "code",
   "execution_count": 4,
   "metadata": {},
   "outputs": [],
   "source": [
    "class LeNet(nn.Module):\n",
    "    def __init__(self, num_classes):\n",
    "        super(LeNet, self).__init__()\n",
    "        self.layer1 = nn.Sequential(\n",
    "            nn.Conv2d(in_channels=1, out_channels=6, kernel_size=5, stride=1, padding=2),\n",
    "            nn.BatchNorm2d(6),\n",
    "            nn.ReLU(),\n",
    "            nn.MaxPool2d(kernel_size=2, stride=2)\n",
    "        )\n",
    "        self.layer2 = nn.Sequential(\n",
    "            nn.Conv2d(in_channels=6, out_channels=16, kernel_size=5, stride=1 ),\n",
    "            nn.BatchNorm2d(16),\n",
    "            nn.ReLU(),\n",
    "            nn.MaxPool2d(kernel_size=2, stride=2)\n",
    "        )\n",
    "        self.fclayer = nn.Sequential(\n",
    "            nn.Linear(16*5*5, 120),\n",
    "            nn.ReLU(),\n",
    "            nn.Linear(120,84),\n",
    "            nn.ReLU(),\n",
    "            nn.Linear(84,num_classes)\n",
    "        ) \n",
    "    def forward(self, x):\n",
    "        x = self.layer1(x)\n",
    "        x = self.layer2(x)\n",
    "        x=x.view(-1, 16*5*5)\n",
    "        x=self.fclayer(x)\n",
    "        return x\n",
    "\n",
    "model = LeNet(10)\n",
    "model.load_state_dict(torch.load('model.pth'))\n",
    "fclayer_Linear_1 = model.fclayer[0]"
   ]
  },
  {
   "cell_type": "code",
   "execution_count": 5,
   "metadata": {},
   "outputs": [
    {
     "data": {
      "text/plain": [
       "(torch.Size([120, 400]), torch.Size([120]))"
      ]
     },
     "execution_count": 5,
     "metadata": {},
     "output_type": "execute_result"
    }
   ],
   "source": [
    "fclayer_Linear_1.weight.shape, fclayer_Linear_1.bias.shape"
   ]
  },
  {
   "cell_type": "code",
   "execution_count": null,
   "metadata": {},
   "outputs": [],
   "source": []
  },
  {
   "cell_type": "code",
   "execution_count": 6,
   "metadata": {},
   "outputs": [],
   "source": [
    "def linear(input_numpy, weight_numpy, bias_numpy):\n",
    "    Ci = len(input_numpy)\n",
    "    Co, Ci = weight_numpy.shape\n",
    "    out = np.zeros((Co,))\n",
    "    for j in range(Co):\n",
    "        for k in range(Ci):\n",
    "            out[j]+= input_numpy[k]*weight_numpy[j][k]\n",
    "    for j in range(Co):\n",
    "        out[j] += bias_numpy[j]\n",
    "    return out"
   ]
  },
  {
   "cell_type": "code",
   "execution_count": 7,
   "metadata": {},
   "outputs": [],
   "source": [
    "input_cpu = np.random.rand(400).astype(np.float32)\n",
    "weight_cpu = fclayer_Linear_1.weight.detach().numpy()\n",
    "bias_cpu = fclayer_Linear_1.bias.detach().numpy()\n",
    "\n",
    "Co, Ci = weight_cpu.shape\n",
    "\n",
    "output_cpu = np.zeros((Co,)).astype(np.float32)"
   ]
  },
  {
   "cell_type": "code",
   "execution_count": 8,
   "metadata": {},
   "outputs": [],
   "source": [
    "input_gpu = cl.Buffer(ctx, mf.READ_ONLY | mf.COPY_HOST_PTR, hostbuf = input_cpu)\n",
    "\n",
    "weight_gpu = cl.Buffer(ctx, mf.READ_ONLY | mf.COPY_HOST_PTR, hostbuf = weight_cpu)\n",
    "bias_gpu = cl.Buffer(ctx, mf.READ_ONLY | mf.COPY_HOST_PTR, hostbuf = bias_cpu)\n",
    "\n",
    "output_channel_gpu = cl.Buffer(ctx, mf.READ_ONLY | mf.COPY_HOST_PTR, hostbuf = np.int32(Co))\n",
    "input_channel_gpu = cl.Buffer(ctx, mf.READ_ONLY | mf.COPY_HOST_PTR, hostbuf = np.int32(Ci))\n",
    "\n",
    "output_gpu = cl.Buffer(ctx, mf.WRITE_ONLY, output_cpu.nbytes)"
   ]
  },
  {
   "cell_type": "code",
   "execution_count": 9,
   "metadata": {},
   "outputs": [],
   "source": [
    "%%cl_kernel -o \"-cl-fast-relaxed-math\"\n",
    "\n",
    "__kernel void Linear(__global const float *ift, \n",
    "                     __global float *weight, __global float *bias,\n",
    "                     __global int *output_channel, __global int *input_channel,\n",
    "                     __global float *oft)\n",
    "{\n",
    "    int Co = *output_channel, Ci = *input_channel;\n",
    "    int posCo = get_global_id(0);\n",
    "    \n",
    "    oft[posCo] = bias[posCo];\n",
    "    for(int k = 0; k < Ci; k++) {\n",
    "        oft[posCo] += ift[k]*weight[posCo*Ci+k];\n",
    "    }\n",
    "}"
   ]
  },
  {
   "cell_type": "code",
   "execution_count": 17,
   "metadata": {},
   "outputs": [
    {
     "data": {
      "text/plain": [
       "<pyopencl._cl.Event at 0x1729ccd3d08>"
      ]
     },
     "execution_count": 17,
     "metadata": {},
     "output_type": "execute_result"
    }
   ],
   "source": [
    "Linear(queue, output_cpu.shape, None, \n",
    "           input_gpu, \n",
    "           weight_gpu, bias_gpu,\n",
    "           output_channel_gpu, input_channel_gpu,\n",
    "           output_gpu)"
   ]
  },
  {
   "cell_type": "code",
   "execution_count": 18,
   "metadata": {},
   "outputs": [
    {
     "data": {
      "text/plain": [
       "<pyopencl._cl.NannyEvent at 0x1729ccd50a8>"
      ]
     },
     "execution_count": 18,
     "metadata": {},
     "output_type": "execute_result"
    }
   ],
   "source": [
    "cl.enqueue_copy(queue, output_cpu, output_gpu)"
   ]
  },
  {
   "cell_type": "code",
   "execution_count": 19,
   "metadata": {},
   "outputs": [
    {
     "data": {
      "text/plain": [
       "array([ 6.9857401e-01, -1.0514938e+00,  6.9363385e-01,  9.5965707e-01,\n",
       "        1.2066766e+00,  1.3771670e+00, -1.3590750e+00, -2.0118271e-01,\n",
       "       -7.7706903e-01, -4.8265231e-01, -1.0459918e+00, -5.5095005e-01,\n",
       "       -2.2567570e+00,  8.6947680e-01,  3.6334932e-01,  4.9455038e-01,\n",
       "       -1.0909736e+00, -5.3922325e-01, -3.6158512e+00, -2.1679578e+00,\n",
       "        4.2211663e-02, -2.8100297e-01,  6.8839595e-02, -4.4237435e-01,\n",
       "       -9.7579271e-01, -7.7192599e-01, -2.9107885e+00, -2.2154856e+00,\n",
       "        1.2929473e+00,  2.7048808e-01, -1.3069842e+00, -4.1822740e-01,\n",
       "        4.4032171e-01,  3.9952981e-01, -1.6993780e+00, -1.8120874e+00,\n",
       "       -1.1808238e+00, -4.4633274e+00,  2.0462520e+00,  8.7749553e-01,\n",
       "       -1.0146166e+00,  8.0423284e-01,  2.2040368e-03, -7.8716916e-01,\n",
       "       -8.2852429e-01, -1.6030115e+00, -2.1449836e-01,  5.5198008e-01,\n",
       "       -3.1762860e+00,  5.5280790e+00, -2.4784594e+00,  6.0961530e-02,\n",
       "       -1.6547663e+00, -6.9561124e-01, -3.2892818e+00,  1.2655298e+00,\n",
       "       -3.5364884e-01, -2.0919256e+00, -8.5331494e-01,  1.8038089e+00,\n",
       "        1.0040826e+00,  5.5732423e-01, -2.2814713e+00, -3.4833211e-01,\n",
       "       -5.0150433e+00, -2.3662717e+00, -1.5575370e+00,  8.8433599e-01,\n",
       "        3.7774038e-01,  3.2345384e-01, -2.5433409e-01, -2.0113440e+00,\n",
       "       -3.9921945e-01, -8.7894917e-01,  4.6713438e-02, -6.5561595e+00,\n",
       "       -3.8914242e+00, -7.9675502e-01, -2.6081240e+00, -4.6885997e-01,\n",
       "       -1.2754692e+00, -1.4592634e+00, -5.7626832e-01,  1.0747516e+00,\n",
       "       -3.6682978e-01, -4.6785700e-01, -1.2732111e+00, -1.0982161e+00,\n",
       "        1.4783907e+00, -1.9616226e+00, -1.7258567e-01, -3.2504983e+00,\n",
       "       -1.4847732e+00, -3.3106220e+00, -5.7428732e+00,  3.6374334e-02,\n",
       "       -2.1807194e+00,  1.3279494e+00,  1.4896491e+00, -1.1428628e+00,\n",
       "        1.1113183e+00, -6.1415160e-01,  5.3249133e-01, -2.1013842e+00,\n",
       "        1.0073855e+00,  5.0412059e-01, -5.3684754e+00,  3.0090499e+00,\n",
       "       -1.8978964e+00,  1.6830623e+00,  3.4982409e+00,  5.9158146e-01,\n",
       "       -6.8330693e-01,  1.9114791e-01, -9.0970352e-02, -2.7081041e+00,\n",
       "       -1.4389250e+00, -2.0107801e+00, -1.7278239e-01, -4.9497178e-01],\n",
       "      dtype=float32)"
      ]
     },
     "execution_count": 19,
     "metadata": {},
     "output_type": "execute_result"
    }
   ],
   "source": [
    "output_cpu"
   ]
  },
  {
   "cell_type": "code",
   "execution_count": 20,
   "metadata": {},
   "outputs": [],
   "source": [
    "np_res = linear(input_cpu, weight_cpu, bias_cpu)"
   ]
  },
  {
   "cell_type": "code",
   "execution_count": 21,
   "metadata": {},
   "outputs": [
    {
     "data": {
      "text/plain": [
       "array([ 6.98574177e-01, -1.05149326e+00,  6.93633602e-01,  9.59656661e-01,\n",
       "        1.20667679e+00,  1.37716678e+00, -1.35907468e+00, -2.01182844e-01,\n",
       "       -7.77068943e-01, -4.82652498e-01, -1.04599104e+00, -5.50949993e-01,\n",
       "       -2.25675623e+00,  8.69476712e-01,  3.63349369e-01,  4.94550438e-01,\n",
       "       -1.09097350e+00, -5.39224082e-01, -3.61585078e+00, -2.16795845e+00,\n",
       "        4.22116029e-02, -2.81003163e-01,  6.88396066e-02, -4.42374418e-01,\n",
       "       -9.75792973e-01, -7.71925610e-01, -2.91078899e+00, -2.21548594e+00,\n",
       "        1.29294735e+00,  2.70487657e-01, -1.30698395e+00, -4.18227691e-01,\n",
       "        4.40321088e-01,  3.99529642e-01, -1.69937735e+00, -1.81208597e+00,\n",
       "       -1.18082446e+00, -4.46333073e+00,  2.04625404e+00,  8.77495702e-01,\n",
       "       -1.01461632e+00,  8.04233158e-01,  2.20383961e-03, -7.87169555e-01,\n",
       "       -8.28524309e-01, -1.60301172e+00, -2.14498302e-01,  5.51979905e-01,\n",
       "       -3.17628453e+00,  5.52807809e+00, -2.47845943e+00,  6.09613112e-02,\n",
       "       -1.65476657e+00, -6.95610948e-01, -3.28928149e+00,  1.26553022e+00,\n",
       "       -3.53649082e-01, -2.09192661e+00, -8.53315123e-01,  1.80380909e+00,\n",
       "        1.00408271e+00,  5.57324093e-01, -2.28147073e+00, -3.48331286e-01,\n",
       "       -5.01504396e+00, -2.36627139e+00, -1.55753674e+00,  8.84335558e-01,\n",
       "        3.77740419e-01,  3.23454071e-01, -2.54334792e-01, -2.01134409e+00,\n",
       "       -3.99219402e-01, -8.78948956e-01,  4.67132761e-02, -6.55615728e+00,\n",
       "       -3.89142252e+00, -7.96754757e-01, -2.60812463e+00, -4.68859940e-01,\n",
       "       -1.27546889e+00, -1.45926386e+00, -5.76268590e-01,  1.07475169e+00,\n",
       "       -3.66830035e-01, -4.67857215e-01, -1.27321089e+00, -1.09821621e+00,\n",
       "        1.47839068e+00, -1.96162270e+00, -1.72585922e-01, -3.25049712e+00,\n",
       "       -1.48477315e+00, -3.31062262e+00, -5.74286967e+00,  3.63741027e-02,\n",
       "       -2.18071966e+00,  1.32794999e+00,  1.48964872e+00, -1.14286273e+00,\n",
       "        1.11131866e+00, -6.14151451e-01,  5.32491172e-01, -2.10138444e+00,\n",
       "        1.00738621e+00,  5.04120372e-01, -5.36847853e+00,  3.00905172e+00,\n",
       "       -1.89789629e+00,  1.68306327e+00,  3.49824132e+00,  5.91581310e-01,\n",
       "       -6.83306939e-01,  1.91148182e-01, -9.09705097e-02, -2.70810404e+00,\n",
       "       -1.43892513e+00, -2.01078051e+00, -1.72782314e-01, -4.94972062e-01])"
      ]
     },
     "execution_count": 21,
     "metadata": {},
     "output_type": "execute_result"
    }
   ],
   "source": [
    "np_res"
   ]
  },
  {
   "cell_type": "code",
   "execution_count": null,
   "metadata": {},
   "outputs": [],
   "source": []
  }
 ],
 "metadata": {
  "kernelspec": {
   "display_name": "Python 3",
   "language": "python",
   "name": "python3"
  },
  "language_info": {
   "codemirror_mode": {
    "name": "ipython",
    "version": 3
   },
   "file_extension": ".py",
   "mimetype": "text/x-python",
   "name": "python",
   "nbconvert_exporter": "python",
   "pygments_lexer": "ipython3",
   "version": "3.7.4"
  }
 },
 "nbformat": 4,
 "nbformat_minor": 4
}
