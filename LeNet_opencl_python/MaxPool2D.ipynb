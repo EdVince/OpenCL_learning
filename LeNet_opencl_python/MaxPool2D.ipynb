{
 "cells": [
  {
   "cell_type": "code",
   "execution_count": 1,
   "metadata": {},
   "outputs": [],
   "source": [
    "import pyopencl as cl\n",
    "import pyopencl.array as cl_array\n",
    "import numpy as np\n",
    "import numpy.linalg as la\n",
    "import math\n",
    "import torch\n",
    "import torch.nn as nn\n",
    "import torch.functional as F"
   ]
  },
  {
   "cell_type": "code",
   "execution_count": 2,
   "metadata": {},
   "outputs": [],
   "source": [
    "%load_ext pyopencl.ipython_ext"
   ]
  },
  {
   "cell_type": "code",
   "execution_count": 3,
   "metadata": {},
   "outputs": [],
   "source": [
    "ctx = cl.create_some_context()\n",
    "queue = cl.CommandQueue(ctx)\n",
    "mf = cl.mem_flags"
   ]
  },
  {
   "cell_type": "code",
   "execution_count": null,
   "metadata": {},
   "outputs": [],
   "source": []
  },
  {
   "cell_type": "code",
   "execution_count": 4,
   "metadata": {},
   "outputs": [],
   "source": [
    "def maxpool(input_numpy,size=2,stride=2):\n",
    "    C, Hi, Wi = input_numpy.shape\n",
    "    Ho, Wo = int(np.floor(Hi/stride)),int(np.floor(Wi/stride))\n",
    "    row_remainder,col_remainder = Hi%stride, Wi%stride\n",
    "    Ho += int(row_remainder!=0)\n",
    "    Wo += int(col_remainder!=0)\n",
    "    temp_map = np.zeros((C, Hi+size-row_remainder, Wi+size-col_remainder))\n",
    "    temp_map[:, :Hi, :Wi] = input_numpy\n",
    "    out = np.zeros((C,Ho,Wo))\n",
    "    for c in range(C):\n",
    "        for h in range(Ho):\n",
    "            for w in range(Wo):\n",
    "                startX, startY = w*stride, h*stride\n",
    "                out[c,h,w] = temp_map[c,startY,startX]\n",
    "                for y in range(size):\n",
    "                    for x in range(size):\n",
    "                        out[c,h,w] = max(out[c,h,w],temp_map[c,startY+y,startX+x])                \n",
    "    return  out"
   ]
  },
  {
   "cell_type": "code",
   "execution_count": 5,
   "metadata": {},
   "outputs": [],
   "source": [
    "input_numpy = torch.randn(6,28,28)\n",
    "\n",
    "size = 2\n",
    "stride = 2\n",
    "C, Hi, Wi = input_numpy.shape\n",
    "Ho, Wo = int(np.floor(Hi/stride)),int(np.floor(Wi/stride))\n",
    "row_remainder,col_remainder = Hi%stride, Wi%stride\n",
    "Ho += int(row_remainder!=0)\n",
    "Wo += int(col_remainder!=0)\n",
    "input_cpu = np.zeros((C, Hi+size-row_remainder, Wi+size-col_remainder)).astype(np.float32)\n",
    "input_cpu[:, :Hi, :Wi] = input_numpy\n",
    "\n",
    "C, Hi, Wi = input_cpu.shape\n",
    "\n",
    "output_cpu = np.zeros((C,Ho,Wo)).astype(np.float32)"
   ]
  },
  {
   "cell_type": "code",
   "execution_count": 6,
   "metadata": {},
   "outputs": [],
   "source": [
    "input_gpu = cl.Buffer(ctx, mf.READ_ONLY | mf.COPY_HOST_PTR, hostbuf = input_cpu)\n",
    "\n",
    "size_gpu = cl.Buffer(ctx, mf.READ_ONLY | mf.COPY_HOST_PTR, hostbuf = np.int32(size))\n",
    "stride_gpu = cl.Buffer(ctx, mf.READ_ONLY | mf.COPY_HOST_PTR, hostbuf = np.int32(stride))\n",
    "\n",
    "channel_gpu = cl.Buffer(ctx, mf.READ_ONLY | mf.COPY_HOST_PTR, hostbuf = np.int32(C))\n",
    "input_height_gpu = cl.Buffer(ctx, mf.READ_ONLY | mf.COPY_HOST_PTR, hostbuf = np.int32(Hi))\n",
    "input_width_gpu = cl.Buffer(ctx, mf.READ_ONLY | mf.COPY_HOST_PTR, hostbuf = np.int32(Wi))\n",
    "output_height_gpu = cl.Buffer(ctx, mf.READ_ONLY | mf.COPY_HOST_PTR, hostbuf = np.int32(Ho))\n",
    "output_width_gpu = cl.Buffer(ctx, mf.READ_ONLY | mf.COPY_HOST_PTR, hostbuf = np.int32(Wo))\n",
    "\n",
    "output_gpu = cl.Buffer(ctx, mf.WRITE_ONLY, output_cpu.nbytes)"
   ]
  },
  {
   "cell_type": "code",
   "execution_count": 7,
   "metadata": {},
   "outputs": [],
   "source": [
    "%%cl_kernel -o \"-cl-fast-relaxed-math\"\n",
    "\n",
    "__kernel void MaxPool2D(__global const float *ift, \n",
    "                        __global int *size, __global int *stride,\n",
    "                        __global int *channel, \n",
    "                        __global int *input_height, __global int *input_width, \n",
    "                        __global int *output_height, __global int *output_width, \n",
    "                        __global float *oft)\n",
    "{\n",
    "    int sz = *size, sd = *stride;\n",
    "    int C = *channel, Hi = *input_height, Wi = *input_width, Ho = *output_height, Wo = *output_width;\n",
    "    int posc = get_global_id(0), posh = get_global_id(1), posw = get_global_id(2);\n",
    "    \n",
    "    int So = Ho*Wo, Si = Hi*Wi;\n",
    "    int i = (posc*(So))+(posh*Wo)+(posw);\n",
    "    int startX = posw*sd, startY = posh*sd;\n",
    "    \n",
    "    oft[i] = ift[(posc*(Si))+(startY*Wi)+startX];\n",
    "    for(int y = 0; y < sz; y++) {\n",
    "        for(int x = 0; x < sz; x++) {\n",
    "            oft[i] = max(oft[i], ift[(posc*(Si))+((startY+y)*Wi)+(startX+x)]);\n",
    "        }\n",
    "    }\n",
    "}"
   ]
  },
  {
   "cell_type": "code",
   "execution_count": 8,
   "metadata": {},
   "outputs": [
    {
     "data": {
      "text/plain": [
       "<pyopencl._cl.Event at 0x290baadc888>"
      ]
     },
     "execution_count": 8,
     "metadata": {},
     "output_type": "execute_result"
    }
   ],
   "source": [
    "MaxPool2D(queue, output_cpu.shape, None, \n",
    "           input_gpu, \n",
    "           size_gpu, stride_gpu,\n",
    "           channel_gpu,\n",
    "           input_height_gpu, input_width_gpu,\n",
    "           output_height_gpu, output_width_gpu,\n",
    "           output_gpu)"
   ]
  },
  {
   "cell_type": "code",
   "execution_count": 9,
   "metadata": {},
   "outputs": [
    {
     "data": {
      "text/plain": [
       "<pyopencl._cl.NannyEvent at 0x290baadc8e8>"
      ]
     },
     "execution_count": 9,
     "metadata": {},
     "output_type": "execute_result"
    }
   ],
   "source": [
    "cl.enqueue_copy(queue, output_cpu, output_gpu)"
   ]
  },
  {
   "cell_type": "code",
   "execution_count": 10,
   "metadata": {},
   "outputs": [
    {
     "data": {
      "text/plain": [
       "array([ 2.1125185,  1.1281296,  1.2305954, -0.0323182,  0.422409 ,\n",
       "        1.6023225,  1.677707 ,  1.041097 ,  1.7334143,  1.4964299,\n",
       "        1.0928481,  2.2433877,  1.7289656,  0.5298232], dtype=float32)"
      ]
     },
     "execution_count": 10,
     "metadata": {},
     "output_type": "execute_result"
    }
   ],
   "source": [
    "output_cpu[0,0,:]"
   ]
  },
  {
   "cell_type": "code",
   "execution_count": 11,
   "metadata": {},
   "outputs": [],
   "source": [
    "np_res = maxpool(input_numpy,size=2,stride=2)"
   ]
  },
  {
   "cell_type": "code",
   "execution_count": 12,
   "metadata": {},
   "outputs": [
    {
     "data": {
      "text/plain": [
       "array([ 2.11251855,  1.1281296 ,  1.23059535, -0.0323182 ,  0.422409  ,\n",
       "        1.60232246,  1.67770696,  1.04109704,  1.73341429,  1.49642992,\n",
       "        1.09284806,  2.2433877 ,  1.72896564,  0.52982318])"
      ]
     },
     "execution_count": 12,
     "metadata": {},
     "output_type": "execute_result"
    }
   ],
   "source": [
    "np_res[0,0,:]"
   ]
  },
  {
   "cell_type": "code",
   "execution_count": null,
   "metadata": {},
   "outputs": [],
   "source": []
  }
 ],
 "metadata": {
  "kernelspec": {
   "display_name": "Python 3",
   "language": "python",
   "name": "python3"
  },
  "language_info": {
   "codemirror_mode": {
    "name": "ipython",
    "version": 3
   },
   "file_extension": ".py",
   "mimetype": "text/x-python",
   "name": "python",
   "nbconvert_exporter": "python",
   "pygments_lexer": "ipython3",
   "version": "3.7.4"
  }
 },
 "nbformat": 4,
 "nbformat_minor": 4
}
