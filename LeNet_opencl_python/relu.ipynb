{
 "cells": [
  {
   "cell_type": "code",
   "execution_count": 1,
   "metadata": {},
   "outputs": [],
   "source": [
    "import pyopencl as cl\n",
    "import pyopencl.array as cl_array\n",
    "import numpy as np\n",
    "import numpy.linalg as la"
   ]
  },
  {
   "cell_type": "code",
   "execution_count": 2,
   "metadata": {},
   "outputs": [],
   "source": [
    "%load_ext pyopencl.ipython_ext"
   ]
  },
  {
   "cell_type": "code",
   "execution_count": 3,
   "metadata": {},
   "outputs": [],
   "source": [
    "ctx = cl.create_some_context()\n",
    "queue = cl.CommandQueue(ctx)\n",
    "mf = cl.mem_flags"
   ]
  },
  {
   "cell_type": "code",
   "execution_count": 4,
   "metadata": {},
   "outputs": [],
   "source": [
    "a = 2.0 * (np.random.rand(2,3,4).astype(np.float32) - 0.5)"
   ]
  },
  {
   "cell_type": "code",
   "execution_count": 5,
   "metadata": {},
   "outputs": [],
   "source": [
    "input_gpu = cl.Buffer(ctx, mf.READ_ONLY | mf.COPY_HOST_PTR, hostbuf = a)\n",
    "output_gpu = cl.Buffer(ctx, mf.WRITE_ONLY, a.nbytes)\n",
    "channel_gpu = cl.Buffer(ctx, mf.READ_ONLY | mf.COPY_HOST_PTR, hostbuf = np.int32(a.shape[0]))\n",
    "height_gpu = cl.Buffer(ctx, mf.READ_ONLY | mf.COPY_HOST_PTR, hostbuf = np.int32(a.shape[1]))\n",
    "width_gpu = cl.Buffer(ctx, mf.READ_ONLY | mf.COPY_HOST_PTR, hostbuf = np.int32(a.shape[2]))"
   ]
  },
  {
   "cell_type": "code",
   "execution_count": 6,
   "metadata": {},
   "outputs": [],
   "source": [
    "%%cl_kernel -o \"-cl-fast-relaxed-math\"\n",
    "\n",
    "__kernel void ReluD1(__global const float *ift, __global float *oft)\n",
    "{\n",
    "    int i = get_global_id(0);\n",
    "    oft[i] = max((float)0, ift[i]);\n",
    "}"
   ]
  },
  {
   "cell_type": "code",
   "execution_count": 7,
   "metadata": {},
   "outputs": [],
   "source": [
    "%%cl_kernel -o \"-cl-fast-relaxed-math\"\n",
    "\n",
    "__kernel void ReluD3(__global const float *ift, __global float *oft,\n",
    "                  __global int *channel, __global int *height, __global int *width)\n",
    "{\n",
    "    int c = *channel;\n",
    "    int h = *height;\n",
    "    int w = *width;\n",
    "    int posc = get_global_id(0);\n",
    "    int posh = get_global_id(1);\n",
    "    int posw = get_global_id(2);\n",
    "    int i = posc*(w*h) + (posh*w+posw);\n",
    "    oft[i] = max((float)0, ift[i]);\n",
    "}"
   ]
  },
  {
   "cell_type": "code",
   "execution_count": 8,
   "metadata": {},
   "outputs": [
    {
     "data": {
      "text/plain": [
       "<pyopencl._cl.Event at 0x21198a61708>"
      ]
     },
     "execution_count": 8,
     "metadata": {},
     "output_type": "execute_result"
    }
   ],
   "source": [
    "ReluD3(queue, a.shape, None, input_gpu, output_gpu, channel_gpu, height_gpu, width_gpu)"
   ]
  },
  {
   "cell_type": "code",
   "execution_count": 9,
   "metadata": {},
   "outputs": [
    {
     "data": {
      "text/plain": [
       "<pyopencl._cl.NannyEvent at 0x21198d13048>"
      ]
     },
     "execution_count": 9,
     "metadata": {},
     "output_type": "execute_result"
    }
   ],
   "source": [
    "result = np.empty_like(a)\n",
    "cl.enqueue_copy(queue, result, output_gpu)"
   ]
  },
  {
   "cell_type": "code",
   "execution_count": 10,
   "metadata": {},
   "outputs": [
    {
     "data": {
      "text/plain": [
       "array([[[0.56101716, 0.3585919 , 0.78431845, 0.7043483 ],\n",
       "        [0.09047246, 0.        , 0.        , 0.        ],\n",
       "        [0.        , 0.49617136, 0.98590934, 0.        ]],\n",
       "\n",
       "       [[0.        , 0.        , 0.1869905 , 0.05707383],\n",
       "        [0.8965759 , 0.38249564, 0.        , 0.11432385],\n",
       "        [0.60342634, 0.        , 0.7510967 , 0.55352986]]], dtype=float32)"
      ]
     },
     "execution_count": 10,
     "metadata": {},
     "output_type": "execute_result"
    }
   ],
   "source": [
    "result"
   ]
  },
  {
   "cell_type": "code",
   "execution_count": 11,
   "metadata": {},
   "outputs": [
    {
     "data": {
      "text/plain": [
       "array([[[ 0.56101716,  0.3585919 ,  0.78431845,  0.7043483 ],\n",
       "        [ 0.09047246, -0.2773316 , -0.15283114, -0.869961  ],\n",
       "        [-0.72097254,  0.49617136,  0.98590934, -0.49990082]],\n",
       "\n",
       "       [[-0.13152266, -0.7272972 ,  0.1869905 ,  0.05707383],\n",
       "        [ 0.8965759 ,  0.38249564, -0.30758226,  0.11432385],\n",
       "        [ 0.60342634, -0.80447567,  0.7510967 ,  0.55352986]]],\n",
       "      dtype=float32)"
      ]
     },
     "execution_count": 11,
     "metadata": {},
     "output_type": "execute_result"
    }
   ],
   "source": [
    "a"
   ]
  },
  {
   "cell_type": "code",
   "execution_count": null,
   "metadata": {},
   "outputs": [],
   "source": []
  }
 ],
 "metadata": {
  "kernelspec": {
   "display_name": "Python 3",
   "language": "python",
   "name": "python3"
  },
  "language_info": {
   "codemirror_mode": {
    "name": "ipython",
    "version": 3
   },
   "file_extension": ".py",
   "mimetype": "text/x-python",
   "name": "python",
   "nbconvert_exporter": "python",
   "pygments_lexer": "ipython3",
   "version": "3.7.4"
  }
 },
 "nbformat": 4,
 "nbformat_minor": 4
}
