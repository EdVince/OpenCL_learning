{
 "cells": [
  {
   "cell_type": "code",
   "execution_count": 1,
   "metadata": {},
   "outputs": [],
   "source": [
    "import numpy as np\n",
    "from bitstream import BitStream\n",
    "import huffmanEncode\n",
    "import cv2"
   ]
  },
  {
   "cell_type": "markdown",
   "metadata": {},
   "source": [
    "#### zigzag表、两个量化表、DCT初始矩阵"
   ]
  },
  {
   "cell_type": "code",
   "execution_count": 2,
   "metadata": {},
   "outputs": [],
   "source": [
    "zigzagOrder = np.array(\n",
    "[  0,  1,  8, 16,  9,  2,  3, 10,\n",
    "  17, 24, 32, 25, 18, 11,  4,  5,\n",
    "  12, 19, 26, 33, 40, 48, 41, 34,\n",
    "  27, 20, 13,  6,  7, 14, 21, 28,\n",
    "  35, 42, 49, 56, 57, 50, 43, 36,\n",
    "  29, 22, 15, 23, 30, 37, 44, 51,\n",
    "  58, 59, 52, 45, 38, 31, 39, 46,\n",
    "  53, 60, 61, 54, 47, 55, 62, 63])\n",
    "\n",
    "std_luminance_quant_tbl = np.array(\n",
    "[ 16,  11,  10,  16,  24,  40,  51,  61,\n",
    "  12,  12,  14,  19,  26,  58,  60,  55,\n",
    "  14,  13,  16,  24,  40,  57,  69,  56,\n",
    "  14,  17,  22,  29,  51,  87,  80,  62,\n",
    "  18,  22,  37,  56,  68, 109, 103,  77,\n",
    "  24,  35,  55,  64,  81, 104, 113,  92,\n",
    "  49,  64,  78,  87, 103, 121, 120, 101,\n",
    "  72,  92,  95,  98, 112, 100, 103,  99],dtype=int)\n",
    "\n",
    "std_chrominance_quant_tbl = np.array(\n",
    "[ 17,  18,  24,  47,  99,  99,  99,  99,\n",
    "  18,  21,  26,  66,  99,  99,  99,  99,\n",
    "  24,  26,  56,  99,  99,  99,  99,  99,\n",
    "  47,  66,  99,  99,  99,  99,  99,  99,\n",
    "  99,  99,  99,  99,  99,  99,  99,  99,\n",
    "  99,  99,  99,  99,  99,  99,  99,  99,\n",
    "  99,  99,  99,  99,  99,  99,  99,  99,\n",
    "  99,  99,  99,  99,  99,  99,  99,  99],dtype=int)\n",
    "\n",
    "dctA = np.zeros(shape=(8, 8))\n",
    "for i in range(8):\n",
    "    c = 0\n",
    "    if i == 0:\n",
    "        c = np.sqrt(1 / 8)\n",
    "    else:\n",
    "        c = np.sqrt(2 / 8)\n",
    "    for j in range(8):\n",
    "        dctA[i, j] = c * np.cos(np.pi * i * (2 * j + 1) / (2 * 8))"
   ]
  },
  {
   "cell_type": "markdown",
   "metadata": {},
   "source": [
    "#### 导入一些参数"
   ]
  },
  {
   "cell_type": "code",
   "execution_count": 3,
   "metadata": {},
   "outputs": [],
   "source": [
    "srcFileName = 'lena.bmp'\n",
    "outputJPEGFileName = 'lena.jpg'\n",
    "quality = 90"
   ]
  },
  {
   "cell_type": "markdown",
   "metadata": {},
   "source": [
    "#### 读取待压缩图像"
   ]
  },
  {
   "cell_type": "code",
   "execution_count": 4,
   "metadata": {},
   "outputs": [],
   "source": [
    "srcImage = cv2.imread(srcFileName)\n",
    "srcImageHeight, srcImageWidth = srcImage.shape[:2]"
   ]
  },
  {
   "cell_type": "markdown",
   "metadata": {},
   "source": [
    "#### padding到长宽都是8的倍数"
   ]
  },
  {
   "cell_type": "code",
   "execution_count": 5,
   "metadata": {},
   "outputs": [],
   "source": [
    "imageHeight, imageWidth = srcImageHeight, srcImageWidth\n",
    "if (srcImageHeight % 8 != 0):\n",
    "    imageHeight = srcImageHeight // 8 * 8 + 8\n",
    "if (srcImageWidth % 8 != 0):\n",
    "    imageWidth = srcImageWidth // 8 * 8 + 8\n",
    "padImage = np.zeros((imageHeight, imageWidth, 3), dtype=np.uint8)\n",
    "padImage[:srcImageHeight,:srcImageWidth] = srcImage"
   ]
  },
  {
   "cell_type": "markdown",
   "metadata": {},
   "source": [
    "#### RGB转YUV并减个127提升DCT性能"
   ]
  },
  {
   "cell_type": "code",
   "execution_count": 6,
   "metadata": {},
   "outputs": [],
   "source": [
    "yImage =   0.299 * padImage[:,:,2] +  0.587 * padImage[:,:,1] + 0.114 * padImage[:,:,0]\n",
    "uImage = -0.1687 * padImage[:,:,2] - 0.3313 * padImage[:,:,1] +   0.5 * padImage[:,:,0] + 128\n",
    "vImage =     0.5 * padImage[:,:,2] -  0.419 * padImage[:,:,1] - 0.081 * padImage[:,:,0] + 128\n",
    "\n",
    "yImage = yImage.astype(np.int32) - 127\n",
    "uImage = uImage.astype(np.int32) - 127\n",
    "vImage = vImage.astype(np.int32) - 127"
   ]
  },
  {
   "cell_type": "markdown",
   "metadata": {},
   "source": [
    "#### 按照质量参数缩放一下量化表"
   ]
  },
  {
   "cell_type": "code",
   "execution_count": 7,
   "metadata": {},
   "outputs": [],
   "source": [
    "quality = np.clip(quality,1,100)\n",
    "if(quality < 50):\n",
    "    qualityScale = 5000 / quality\n",
    "else:\n",
    "    qualityScale = 200 - quality * 2\n",
    "\n",
    "luminanceQuantTbl = np.array(np.floor((std_luminance_quant_tbl * qualityScale + 50) / 100))\n",
    "luminanceQuantTbl = np.where(luminanceQuantTbl == 0, 1, luminanceQuantTbl)\n",
    "luminanceQuantTbl = np.where(luminanceQuantTbl > 255, 255, luminanceQuantTbl)\n",
    "luminanceQuantTbl = luminanceQuantTbl.reshape([8, 8]).astype(int)\n",
    "\n",
    "chrominanceQuantTbl = np.array(np.floor((std_chrominance_quant_tbl * qualityScale + 50) / 100))\n",
    "chrominanceQuantTbl = np.where(chrominanceQuantTbl == 0, 1, chrominanceQuantTbl)\n",
    "chrominanceQuantTbl = np.where(chrominanceQuantTbl > 255, 255, chrominanceQuantTbl)\n",
    "chrominanceQuantTbl = chrominanceQuantTbl.reshape([8, 8]).astype(int)"
   ]
  },
  {
   "cell_type": "markdown",
   "metadata": {},
   "source": [
    "#### block划分"
   ]
  },
  {
   "cell_type": "code",
   "execution_count": 8,
   "metadata": {},
   "outputs": [],
   "source": [
    "blockSum = imageWidth // 8 * imageHeight // 8\n",
    "\n",
    "yDC = np.zeros([blockSum], dtype=int)\n",
    "uDC = np.zeros([blockSum], dtype=int)\n",
    "vDC = np.zeros([blockSum], dtype=int)\n",
    "\n",
    "dyDC = np.zeros([blockSum], dtype=int)\n",
    "duDC = np.zeros([blockSum], dtype=int)\n",
    "dvDC = np.zeros([blockSum], dtype=int)"
   ]
  },
  {
   "cell_type": "markdown",
   "metadata": {},
   "source": [
    "#### 遍历block处理"
   ]
  },
  {
   "cell_type": "code",
   "execution_count": 9,
   "metadata": {},
   "outputs": [],
   "source": [
    "blockNum = 0\n",
    "sosBitStream = BitStream()\n",
    "for y in range(0, imageHeight, 8):\n",
    "    for x in range(0, imageWidth, 8):\n",
    "        # 对yuv的三个block做DCT\n",
    "        yDct = np.dot(np.dot(dctA, yImage[y:y + 8, x:x + 8]), dctA.T)\n",
    "        uDct = np.dot(np.dot(dctA, uImage[y:y + 8, x:x + 8]), dctA.T)\n",
    "        vDct = np.dot(np.dot(dctA, vImage[y:y + 8, x:x + 8]), dctA.T)\n",
    "        # 量化表量化\n",
    "        yQuant = np.rint(yDct / luminanceQuantTbl).flatten()\n",
    "        uQuant = np.rint(uDct / chrominanceQuantTbl).flatten()\n",
    "        vQuant = np.rint(vDct / chrominanceQuantTbl).flatten()\n",
    "        # zigzag重排\n",
    "        yZCode = np.array([yQuant[zigzagOrder[i]] for i in range(64)]).astype(np.int32)\n",
    "        uZCode = np.array([uQuant[zigzagOrder[i]] for i in range(64)]).astype(np.int32)\n",
    "        vZCode = np.array([vQuant[zigzagOrder[i]] for i in range(64)]).astype(np.int32)\n",
    "        # block的DC数据处理\n",
    "        yDC[blockNum] = yZCode[0]\n",
    "        uDC[blockNum] = uZCode[0]\n",
    "        vDC[blockNum] = vZCode[0]\n",
    "        if(blockNum==0):\n",
    "            dyDC[blockNum] = yDC[blockNum]\n",
    "            duDC[blockNum] = uDC[blockNum]\n",
    "            dvDC[blockNum] = vDC[blockNum]\n",
    "        else:\n",
    "            dyDC[blockNum] = yDC[blockNum] - yDC[blockNum-1]\n",
    "            duDC[blockNum] = uDC[blockNum] - uDC[blockNum-1]\n",
    "            dvDC[blockNum] = vDC[blockNum] - vDC[blockNum-1]\n",
    "        # 编码yDC和yAC\n",
    "        sosBitStream.write(huffmanEncode.encodeDCToBoolList(dyDC[blockNum],1, 0),bool)\n",
    "        huffmanEncode.encodeACBlock(sosBitStream, yZCode[1:], 1, 0)\n",
    "        # 编码uDC和uAC\n",
    "        sosBitStream.write(huffmanEncode.encodeDCToBoolList(duDC[blockNum],0, 0),bool)\n",
    "        huffmanEncode.encodeACBlock(sosBitStream, uZCode[1:], 0, 0)\n",
    "        # 编码vDC和uAC\n",
    "        sosBitStream.write(huffmanEncode.encodeDCToBoolList(dvDC[blockNum],0, 0),bool)\n",
    "        huffmanEncode.encodeACBlock(sosBitStream, vZCode[1:], 0, 0)\n",
    "\n",
    "        blockNum = blockNum + 1"
   ]
  },
  {
   "cell_type": "code",
   "execution_count": 10,
   "metadata": {},
   "outputs": [
    {
     "data": {
      "text/plain": [
       "2"
      ]
     },
     "execution_count": 10,
     "metadata": {},
     "output_type": "execute_result"
    }
   ],
   "source": [
    "jpegFile = open(outputJPEGFileName, 'wb+')\n",
    "# 写入jpeg头\n",
    "jpegFile.write(huffmanEncode.hexToBytes('FFD8FFE000104A46494600010100000100010000'))\n",
    "# 写入y量化表\n",
    "jpegFile.write(huffmanEncode.hexToBytes('FFDB004300'))\n",
    "luminanceQuantTbl = luminanceQuantTbl.reshape([64])\n",
    "jpegFile.write(bytes(luminanceQuantTbl.tolist()))\n",
    "# 写入c量化表\n",
    "jpegFile.write(huffmanEncode.hexToBytes('FFDB004301'))\n",
    "chrominanceQuantTbl = chrominanceQuantTbl.reshape([64])\n",
    "jpegFile.write(bytes(chrominanceQuantTbl.tolist()))\n",
    "# 写入高度和宽度\n",
    "jpegFile.write(huffmanEncode.hexToBytes('FFC0001108'))\n",
    "hHex = hex(srcImageHeight)[2:].rjust(4,'0')\n",
    "wHex = hex(srcImageWidth)[2:].rjust(4,'0')\n",
    "jpegFile.write(huffmanEncode.hexToBytes(hHex))\n",
    "jpegFile.write(huffmanEncode.hexToBytes(wHex))"
   ]
  },
  {
   "cell_type": "code",
   "execution_count": 11,
   "metadata": {},
   "outputs": [
    {
     "data": {
      "text/plain": [
       "420"
      ]
     },
     "execution_count": 11,
     "metadata": {},
     "output_type": "execute_result"
    }
   ],
   "source": [
    "# 写入子图\n",
    "jpegFile.write(huffmanEncode.hexToBytes('03011100021101031101'))\n",
    "# 写入huffman表\n",
    "jpegFile.write(huffmanEncode.hexToBytes('FFC401A20000000701010101010000000000000000040503020601000708090A0B0100020203010101010100000000000000010002030405060708090A0B1000020103030204020607030402060273010203110400052112314151061361227181143291A10715B14223C152D1E1331662F0247282F12543345392A2B26373C235442793A3B33617546474C3D2E2082683090A181984944546A4B456D355281AF2E3F3C4D4E4F465758595A5B5C5D5E5F566768696A6B6C6D6E6F637475767778797A7B7C7D7E7F738485868788898A8B8C8D8E8F82939495969798999A9B9C9D9E9F92A3A4A5A6A7A8A9AAABACADAEAFA110002020102030505040506040803036D0100021103042112314105511361220671819132A1B1F014C1D1E1234215526272F1332434438216925325A263B2C20773D235E2448317549308090A18192636451A2764745537F2A3B3C32829D3E3F38494A4B4C4D4E4F465758595A5B5C5D5E5F5465666768696A6B6C6D6E6F6475767778797A7B7C7D7E7F738485868788898A8B8C8D8E8F839495969798999A9B9C9D9E9F92A3A4A5A6A7A8A9AAABACADAEAFA'))"
   ]
  },
  {
   "cell_type": "code",
   "execution_count": 12,
   "metadata": {},
   "outputs": [],
   "source": [
    "# 这个对jpeg的头解释的很详细了：https://blog.csdn.net/ymlbright/article/details/44179891\n",
    "# sos扫描数据，确保是8的倍数\n",
    "sosLength = sosBitStream.__len__()\n",
    "filledNum = 8 - sosLength % 8\n",
    "if(filledNum!=0):\n",
    "    sosBitStream.write(np.ones([filledNum]).tolist(),bool)\n",
    "jpegFile.write(bytes([255, 218, 0, 12, 3, 1, 0, 2, 17, 3, 17, 0, 63, 0])) # FF DA 00 0C 03 01 00 02 11 03 11 00 3F 00\n",
    "# 写入编码数据\n",
    "sosBytes = sosBitStream.read(bytes)\n",
    "for i in range(len(sosBytes)):\n",
    "    jpegFile.write(bytes([sosBytes[i]]))\n",
    "    if(sosBytes[i]==255):\n",
    "        jpegFile.write(bytes([0])) # FF to FF 00\n",
    "# 写入结束符\n",
    "jpegFile.write(bytes([255,217])) # FF D9\n",
    "jpegFile.close()"
   ]
  },
  {
   "cell_type": "code",
   "execution_count": null,
   "metadata": {},
   "outputs": [],
   "source": []
  }
 ],
 "metadata": {
  "kernelspec": {
   "display_name": "Python 3",
   "language": "python",
   "name": "python3"
  },
  "language_info": {
   "codemirror_mode": {
    "name": "ipython",
    "version": 3
   },
   "file_extension": ".py",
   "mimetype": "text/x-python",
   "name": "python",
   "nbconvert_exporter": "python",
   "pygments_lexer": "ipython3",
   "version": "3.7.4"
  }
 },
 "nbformat": 4,
 "nbformat_minor": 4
}
