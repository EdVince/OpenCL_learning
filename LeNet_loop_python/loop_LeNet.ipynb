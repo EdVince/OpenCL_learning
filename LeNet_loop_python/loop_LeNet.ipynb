{
 "cells": [
  {
   "cell_type": "code",
   "execution_count": 1,
   "metadata": {},
   "outputs": [],
   "source": [
    "import numpy as np\n",
    "import time\n",
    "import math\n",
    "import torch\n",
    "import torch.nn as nn\n",
    "import torch.functional as F"
   ]
  },
  {
   "cell_type": "code",
   "execution_count": null,
   "metadata": {},
   "outputs": [],
   "source": []
  },
  {
   "cell_type": "code",
   "execution_count": 2,
   "metadata": {},
   "outputs": [],
   "source": [
    "def conv2d(input_numpy, kernel_weight_numpy, kernel_bias_numpy, padding = 0):\n",
    "    B, Ci, Hi, Wi = input_numpy.shape\n",
    "    input_pad_numpy = torch.zeros(B, Ci, Hi+2*padding, Wi+2*padding)\n",
    "    if padding > 0:\n",
    "        input_pad_numpy[:, :, padding:-padding, padding:-padding] = input_numpy\n",
    "    else:\n",
    "        input_pad_numpy = input_numpy\n",
    "    B, Ci, Hi, Wi = input_pad_numpy.shape\n",
    "    Co, Ci, Hf, Wf = kernel_weight_numpy.shape\n",
    "    Ho, Wo = Hi - Hf + 1, Wi - Wf + 1\n",
    "    # conv2d weight 7 loop\n",
    "    out = np.zeros((B,Co,Ho,Wo))\n",
    "    for b in range(B):\n",
    "        for i in range(Ho):\n",
    "            for j in range(Wo):\n",
    "                for k in range(Co):\n",
    "                    for l in range(Hf):\n",
    "                        for m in range(Wf):\n",
    "                            for n in range(Ci):\n",
    "                                out[b,k,i,j] += input_pad_numpy[b,n,i+l,j+m]*kernel_weight_numpy[k,n,l,m]\n",
    "    for b in range(B):\n",
    "        for i in range(Ho):\n",
    "            for j in range(Wo):\n",
    "                for k in range(Co):\n",
    "                    out[b,k,i,j] += kernel_bias_numpy[k]\n",
    "    return out"
   ]
  },
  {
   "cell_type": "code",
   "execution_count": 3,
   "metadata": {},
   "outputs": [],
   "source": [
    "def relu(input_numpy):\n",
    "    isConv = len(input_numpy.shape)==4\n",
    "    if isConv:\n",
    "        B, C, H, W = input_numpy.shape\n",
    "        out = np.zeros((B,C,H,W))\n",
    "        for b in range(B):\n",
    "            for c in range(C):\n",
    "                for h in range(H):\n",
    "                    for w in range(W):\n",
    "                        out[b,c,h,w] = max(0, input_numpy[b,c,h,w])\n",
    "    else:\n",
    "        B, E = input_numpy.shape\n",
    "        out = np.zeros((B,E))\n",
    "        for b in range(B):\n",
    "            for e in range(E):\n",
    "                out[b,e] = max(0, input_numpy[b,e])     \n",
    "    return out"
   ]
  },
  {
   "cell_type": "code",
   "execution_count": 4,
   "metadata": {},
   "outputs": [],
   "source": [
    "def maxpool(input_numpy,size=2,stride=2):\n",
    "    B, C, Hi, Wi = input_numpy.shape\n",
    "    Ho, Wo = int(np.floor(Hi/stride)),int(np.floor(Wi/stride))\n",
    "    row_remainder,col_remainder = Hi%stride, Wi%stride\n",
    "    Ho += int(row_remainder!=0)\n",
    "    Wo += int(col_remainder!=0)\n",
    "    temp_map = np.zeros((B, C, Hi+size-row_remainder, Wi+size-col_remainder))\n",
    "    temp_map[:, :, :Hi, :Wi] = input_numpy\n",
    "    out = np.zeros((B,C,Ho,Wo))\n",
    "    for b in range(B):\n",
    "        for c in range(C):\n",
    "            for h in range(Ho):\n",
    "                for w in range(Wo):\n",
    "                    startX, startY = w*stride, h*stride\n",
    "                    out[b,c,h,w] = np.max(temp_map[b,c,startY:startY+size, startX:startX+size])\n",
    "    return  out"
   ]
  },
  {
   "cell_type": "code",
   "execution_count": 5,
   "metadata": {},
   "outputs": [],
   "source": [
    "def batchnorm2d(input_numpy, eps, weight, bias):\n",
    "    mean = input_numpy.mean(axis=(2,3))\n",
    "    std = input_numpy.std(axis=(2,3))**2\n",
    "    B, C, H, W = input_numpy.shape\n",
    "    out = np.zeros((B,C,H,W))\n",
    "    for b in range(B):\n",
    "        for c in range(C):\n",
    "            for h in range(H):\n",
    "                for w in range(W):\n",
    "                    out[b,c,h,w] = ((input_numpy[b,c,h,w]-mean[b,c])/(math.sqrt(std[b,c]+eps)))*weight[c]+bias[c]\n",
    "    return out"
   ]
  },
  {
   "cell_type": "code",
   "execution_count": 6,
   "metadata": {},
   "outputs": [],
   "source": [
    "def linear(input_numpy, weight_numpy, bias_numpy):\n",
    "    weight_numpy = weight_numpy.T\n",
    "    n11, n12 = input_numpy.shape\n",
    "    n21, n22 = weight_numpy.shape\n",
    "    out = np.zeros([n11, n22])\n",
    "    for i in range(n11):\n",
    "        for j in range(n22):\n",
    "            for k in range(n12):\n",
    "                out[i][j]+= input_numpy[i][k]*weight_numpy[k][j]\n",
    "    for i in range(n11):\n",
    "        for j in range(n22):\n",
    "            out[i][j] += bias_numpy[j]\n",
    "    return out"
   ]
  },
  {
   "cell_type": "code",
   "execution_count": null,
   "metadata": {},
   "outputs": [],
   "source": []
  },
  {
   "cell_type": "code",
   "execution_count": 7,
   "metadata": {},
   "outputs": [],
   "source": [
    "class LeNet(nn.Module):\n",
    "    def __init__(self, num_classes):\n",
    "        super(LeNet, self).__init__()\n",
    "        self.layer1 = nn.Sequential(\n",
    "            nn.Conv2d(in_channels=1, out_channels=6, kernel_size=5, stride=1, padding=2),\n",
    "            nn.BatchNorm2d(6),\n",
    "            nn.ReLU(),\n",
    "            nn.MaxPool2d(kernel_size=2, stride=2)\n",
    "        )\n",
    "        self.layer2 = nn.Sequential(\n",
    "            nn.Conv2d(in_channels=6, out_channels=16, kernel_size=5, stride=1 ),\n",
    "            nn.BatchNorm2d(16),\n",
    "            nn.ReLU(),\n",
    "            nn.MaxPool2d(kernel_size=2, stride=2)\n",
    "        )\n",
    "        self.fclayer = nn.Sequential(\n",
    "            nn.Linear(16*5*5, 120),\n",
    "            nn.ReLU(),\n",
    "            nn.Linear(120,84),\n",
    "            nn.ReLU(),\n",
    "            nn.Linear(84,num_classes)\n",
    "        ) \n",
    "    def forward(self, x):\n",
    "        x = self.layer1(x)\n",
    "        x = self.layer2(x)\n",
    "        x=x.view(-1, 16*5*5)\n",
    "        x=self.fclayer(x)\n",
    "        return x"
   ]
  },
  {
   "cell_type": "code",
   "execution_count": 8,
   "metadata": {},
   "outputs": [],
   "source": [
    "def numpy_LeNet(model, input_numpy):\n",
    "    \n",
    "    layer1_Conv2d = model.layer1[0]\n",
    "    layer1_BatchNorm2d = model.layer1[1]\n",
    "    layer1_ReLU = model.layer1[2]\n",
    "    layer1_MaxPool2d = model.layer1[3]\n",
    "\n",
    "    layer2_Conv2d = model.layer2[0]\n",
    "    layer2_BatchNorm2d = model.layer2[1]\n",
    "    layer2_ReLU = model.layer2[2]\n",
    "    layer2_MaxPool2d = model.layer2[3]\n",
    "\n",
    "    fclayer_Linear_1 = model.fclayer[0]\n",
    "    fclayer_ReLU_1 = model.fclayer[1]\n",
    "    fclayer_Linear_2 = model.fclayer[2]\n",
    "    fclayer_ReLU_2 = model.fclayer[3]\n",
    "    fclayer_Linear_3 = model.fclayer[4]\n",
    "\n",
    "\n",
    "    layer1_Conv2d_numpy_out = conv2d(input_numpy, layer1_Conv2d.weight, layer1_Conv2d.bias, padding = 2)\n",
    "    layer1_BatchNorm2d_numpy_out = batchnorm2d(layer1_Conv2d_numpy_out, layer1_BatchNorm2d.eps, layer1_BatchNorm2d.weight, layer1_BatchNorm2d.bias)\n",
    "    layer1_ReLU_numpy_out = relu(layer1_BatchNorm2d_numpy_out)\n",
    "    layer1_MaxPool2d_numpy_out = maxpool(layer1_ReLU_numpy_out, 2)\n",
    "\n",
    "    layer2_Conv2d_numpy_out = conv2d(layer1_MaxPool2d_numpy_out, layer2_Conv2d.weight, layer2_Conv2d.bias, padding = 0)\n",
    "    layer2_BatchNorm2d_numpy_out = batchnorm2d(layer2_Conv2d_numpy_out, layer2_BatchNorm2d.eps, layer2_BatchNorm2d.weight, layer2_BatchNorm2d.bias)\n",
    "    layer2_ReLU_numpy_out = relu(layer2_BatchNorm2d_numpy_out)\n",
    "    layer2_MaxPool2d_numpy_out = maxpool(layer2_ReLU_numpy_out, 2)\n",
    "\n",
    "    layer2_MaxPool2d_numpy_out = layer2_MaxPool2d_numpy_out.reshape(-1, 16*5*5)\n",
    "\n",
    "    fclayer_Linear_1_numpy_out = linear(layer2_MaxPool2d_numpy_out, fclayer_Linear_1.weight, fclayer_Linear_1.bias)\n",
    "    fclayer_ReLU_1_numpy_out = relu(fclayer_Linear_1_numpy_out)\n",
    "    fclayer_Linear_2_numpy_out = linear(fclayer_ReLU_1_numpy_out, fclayer_Linear_2.weight, fclayer_Linear_2.bias)\n",
    "    fclayer_ReLU_2_numpy_out = relu(fclayer_Linear_2_numpy_out)\n",
    "    fclayer_Linear_3_numpy_out = linear(fclayer_ReLU_2_numpy_out, fclayer_Linear_3.weight, fclayer_Linear_3.bias)\n",
    "\n",
    "    \n",
    "    return fclayer_Linear_3_numpy_out"
   ]
  },
  {
   "cell_type": "code",
   "execution_count": null,
   "metadata": {},
   "outputs": [],
   "source": []
  },
  {
   "cell_type": "code",
   "execution_count": 9,
   "metadata": {},
   "outputs": [
    {
     "data": {
      "text/plain": [
       "<All keys matched successfully>"
      ]
     },
     "execution_count": 9,
     "metadata": {},
     "output_type": "execute_result"
    }
   ],
   "source": [
    "model = LeNet(10)\n",
    "model.load_state_dict(torch.load('model.pth'))"
   ]
  },
  {
   "cell_type": "code",
   "execution_count": null,
   "metadata": {},
   "outputs": [],
   "source": []
  },
  {
   "cell_type": "code",
   "execution_count": 10,
   "metadata": {},
   "outputs": [],
   "source": [
    "input = torch.randn(1,1,28,28)"
   ]
  },
  {
   "cell_type": "code",
   "execution_count": 11,
   "metadata": {},
   "outputs": [
    {
     "data": {
      "text/plain": [
       "array([[-10.291776 ,  -4.2693005,  -3.5831523,  -1.6560783,   6.784427 ,\n",
       "         -3.717661 ,  -9.238439 ,   3.7568626,  -3.8096917,  -4.0406566]],\n",
       "      dtype=float32)"
      ]
     },
     "execution_count": 11,
     "metadata": {},
     "output_type": "execute_result"
    }
   ],
   "source": [
    "model(input).detach().numpy()"
   ]
  },
  {
   "cell_type": "code",
   "execution_count": 12,
   "metadata": {},
   "outputs": [
    {
     "data": {
      "text/plain": [
       "array([[-10.2917757 ,  -4.26930141,  -3.58314991,  -1.65607524,\n",
       "          6.78442764,  -3.71766305,  -9.23843956,   3.75686669,\n",
       "         -3.80969262,  -4.04065847]])"
      ]
     },
     "execution_count": 12,
     "metadata": {},
     "output_type": "execute_result"
    }
   ],
   "source": [
    "numpy_LeNet(model,input)"
   ]
  },
  {
   "cell_type": "code",
   "execution_count": null,
   "metadata": {},
   "outputs": [],
   "source": []
  }
 ],
 "metadata": {
  "kernelspec": {
   "display_name": "Python 3",
   "language": "python",
   "name": "python3"
  },
  "language_info": {
   "codemirror_mode": {
    "name": "ipython",
    "version": 3
   },
   "file_extension": ".py",
   "mimetype": "text/x-python",
   "name": "python",
   "nbconvert_exporter": "python",
   "pygments_lexer": "ipython3",
   "version": "3.7.4"
  }
 },
 "nbformat": 4,
 "nbformat_minor": 4
}
