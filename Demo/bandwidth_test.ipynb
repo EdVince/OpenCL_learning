{
 "cells": [
  {
   "cell_type": "code",
   "execution_count": 1,
   "metadata": {},
   "outputs": [],
   "source": [
    "import pyopencl as cl\n",
    "import pyopencl.characterize.performance as perf"
   ]
  },
  {
   "cell_type": "code",
   "execution_count": 2,
   "metadata": {},
   "outputs": [],
   "source": [
    "%load_ext pyopencl.ipython_ext"
   ]
  },
  {
   "cell_type": "code",
   "execution_count": 3,
   "metadata": {},
   "outputs": [],
   "source": [
    "def main():\n",
    "    ctx = cl.create_some_context()\n",
    "\n",
    "    prof_overhead, latency = perf.get_profiling_overhead(ctx)\n",
    "    print(\"command latency: %g s\" % latency)\n",
    "    print(\"profiling overhead: {:g} s -> {:.1f} %\".format(prof_overhead, 100*prof_overhead/latency))\n",
    "    queue = cl.CommandQueue(ctx, properties=cl.command_queue_properties.PROFILING_ENABLE)\n",
    "    print(\"empty kernel: %g s\" % perf.get_empty_kernel_time(queue))\n",
    "    print(\"float32 add: %g GOps/s\" % (perf.get_add_rate(queue)/1e9))\n",
    "\n",
    "    for tx_type in [perf.HostToDeviceTransfer,perf.DeviceToHostTransfer,perf.DeviceToDeviceTransfer]:\n",
    "        print(\"----------------------------------------\")\n",
    "        print(tx_type.__name__)\n",
    "        print(\"----------------------------------------\")\n",
    "\n",
    "        print(\"latency: %g s\" % perf.transfer_latency(queue, tx_type))\n",
    "        for i in range(6, 31, 2):\n",
    "            bs = 1 << i\n",
    "            try:\n",
    "                result = \"%g GB/s\" % (perf.transfer_bandwidth(queue, tx_type, bs)/1e9)\n",
    "            except Exception as e:\n",
    "                result = \"exception: %s\" % e.__class__.__name__\n",
    "            print(\"bandwidth @ %d bytes: %s\" % (bs, result))"
   ]
  },
  {
   "cell_type": "code",
   "execution_count": 4,
   "metadata": {},
   "outputs": [
    {
     "name": "stdout",
     "output_type": "stream",
     "text": [
      "command latency: 1.23888e-05 s\n",
      "profiling overhead: 2.72714e-06 s -> 22.0 %\n",
      "empty kernel: 1.59573e-05 s\n",
      "20 1246030.455014912 0\n",
      "40 4395278.090697126 0\n",
      "80 9167349.251985563 0\n",
      "160 19897925.855918463 0\n",
      "320 39873437.27428863 0\n",
      "640 71301622.2031124 0\n",
      "1280 172560026.67770204 0\n",
      "2560 345121439.9588583 0\n",
      "5120 684495289.0637548 0\n",
      "10240 678755126.1218015 0\n",
      "float32 add: 342.248 GOps/s\n",
      "----------------------------------------\n",
      "HostToDeviceTransfer\n",
      "----------------------------------------\n",
      "latency: 5.45415e-05 s\n",
      "bandwidth @ 64 bytes: 0.000877552 GB/s\n",
      "bandwidth @ 256 bytes: 0.00380271 GB/s\n",
      "bandwidth @ 1024 bytes: 0.0132462 GB/s\n",
      "bandwidth @ 4096 bytes: 0.0680951 GB/s\n",
      "bandwidth @ 16384 bytes: 0.163249 GB/s\n",
      "bandwidth @ 65536 bytes: 0.790509 GB/s\n",
      "bandwidth @ 262144 bytes: 2.41698 GB/s\n",
      "bandwidth @ 1048576 bytes: 5.25693 GB/s\n",
      "bandwidth @ 4194304 bytes: 6.90138 GB/s\n",
      "bandwidth @ 16777216 bytes: 6.53288 GB/s\n",
      "bandwidth @ 67108864 bytes: 6.24328 GB/s\n",
      "bandwidth @ 268435456 bytes: 5.2801 GB/s\n",
      "bandwidth @ 1073741824 bytes: 6.29604 GB/s\n",
      "----------------------------------------\n",
      "DeviceToHostTransfer\n",
      "----------------------------------------\n",
      "latency: 7.04375e-05 s\n",
      "bandwidth @ 64 bytes: 0.000828021 GB/s\n",
      "bandwidth @ 256 bytes: 0.003339 GB/s\n",
      "bandwidth @ 1024 bytes: 0.0130381 GB/s\n",
      "bandwidth @ 4096 bytes: 0.049665 GB/s\n",
      "bandwidth @ 16384 bytes: 0.211973 GB/s\n",
      "bandwidth @ 65536 bytes: 0.756278 GB/s\n",
      "bandwidth @ 262144 bytes: 2.14553 GB/s\n",
      "bandwidth @ 1048576 bytes: 4.42688 GB/s\n",
      "bandwidth @ 4194304 bytes: 5.85115 GB/s\n",
      "bandwidth @ 16777216 bytes: 5.75116 GB/s\n",
      "bandwidth @ 67108864 bytes: 6.27569 GB/s\n",
      "bandwidth @ 268435456 bytes: 6.33304 GB/s\n",
      "bandwidth @ 1073741824 bytes: 5.91645 GB/s\n",
      "----------------------------------------\n",
      "DeviceToDeviceTransfer\n",
      "----------------------------------------\n",
      "latency: 1.60508e-05 s\n",
      "bandwidth @ 64 bytes: 0.00508285 GB/s\n",
      "bandwidth @ 256 bytes: 0.0162975 GB/s\n",
      "bandwidth @ 1024 bytes: 0.0755216 GB/s\n",
      "bandwidth @ 4096 bytes: 0.229757 GB/s\n",
      "bandwidth @ 16384 bytes: 1.31422 GB/s\n",
      "bandwidth @ 65536 bytes: 4.10295 GB/s\n",
      "bandwidth @ 262144 bytes: 19.6969 GB/s\n",
      "bandwidth @ 1048576 bytes: 35.7917 GB/s\n",
      "bandwidth @ 4194304 bytes: 41.2964 GB/s\n",
      "bandwidth @ 16777216 bytes: 44.4232 GB/s\n",
      "bandwidth @ 67108864 bytes: 43.7773 GB/s\n",
      "bandwidth @ 268435456 bytes: 44.5015 GB/s\n",
      "bandwidth @ 1073741824 bytes: exception: MemoryError\n"
     ]
    }
   ],
   "source": [
    "main()"
   ]
  },
  {
   "cell_type": "code",
   "execution_count": null,
   "metadata": {},
   "outputs": [],
   "source": []
  }
 ],
 "metadata": {
  "kernelspec": {
   "display_name": "Python 3",
   "language": "python",
   "name": "python3"
  },
  "language_info": {
   "codemirror_mode": {
    "name": "ipython",
    "version": 3
   },
   "file_extension": ".py",
   "mimetype": "text/x-python",
   "name": "python",
   "nbconvert_exporter": "python",
   "pygments_lexer": "ipython3",
   "version": "3.7.4"
  }
 },
 "nbformat": 4,
 "nbformat_minor": 4
}
