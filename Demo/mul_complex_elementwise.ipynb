{
 "cells": [
  {
   "cell_type": "code",
   "execution_count": 1,
   "metadata": {},
   "outputs": [],
   "source": [
    "import pyopencl as cl\n",
    "import pyopencl.array as cl_array\n",
    "import numpy\n",
    "import numpy.linalg as la\n",
    "from pyopencl.elementwise import ElementwiseKernel"
   ]
  },
  {
   "cell_type": "code",
   "execution_count": 2,
   "metadata": {},
   "outputs": [],
   "source": [
    "ctx = cl.create_some_context()\n",
    "queue = cl.CommandQueue(ctx)"
   ]
  },
  {
   "cell_type": "code",
   "execution_count": 3,
   "metadata": {},
   "outputs": [],
   "source": [
    "a_gpu = cl_array.to_device(queue,(numpy.random.randn(50000)+1j*numpy.random.randn(50000)).astype(numpy.complex64))\n",
    "b_gpu = cl_array.to_device(queue,(numpy.random.randn(50000)+1j*numpy.random.randn(50000)).astype(numpy.complex64))"
   ]
  },
  {
   "cell_type": "code",
   "execution_count": 4,
   "metadata": {},
   "outputs": [],
   "source": [
    "complex_prod = ElementwiseKernel(context = ctx,\n",
    "        arguments = \"float a, cfloat_t *x, cfloat_t *y, cfloat_t *z\",\n",
    "        operation = \"z[i] = cfloat_rmul(a, cfloat_mul(x[i], y[i]))\",\n",
    "        name = \"complex_prod\",\n",
    "        preamble = \"#include <pyopencl-complex.h>\")"
   ]
  },
  {
   "cell_type": "code",
   "execution_count": 5,
   "metadata": {},
   "outputs": [],
   "source": [
    "real_part = ElementwiseKernel(context = ctx,\n",
    "        arguments = \"cfloat_t *x, float *z\",\n",
    "        operation = \"z[i] = cfloat_real(x[i])\",\n",
    "        name = \"real_part\",\n",
    "        preamble = \"#include <pyopencl-complex.h>\")"
   ]
  },
  {
   "cell_type": "code",
   "execution_count": 6,
   "metadata": {},
   "outputs": [
    {
     "data": {
      "text/plain": [
       "<pyopencl._cl.Event at 0x19e866fcc48>"
      ]
     },
     "execution_count": 6,
     "metadata": {},
     "output_type": "execute_result"
    }
   ],
   "source": [
    "# 常数*复数*复数\n",
    "c_gpu = cl_array.empty_like(a_gpu)\n",
    "complex_prod(5, a_gpu, b_gpu, c_gpu)"
   ]
  },
  {
   "cell_type": "code",
   "execution_count": 7,
   "metadata": {},
   "outputs": [
    {
     "name": "stdout",
     "output_type": "stream",
     "text": [
      "[0. 0. 0. ... 0. 0. 0.]\n"
     ]
    }
   ],
   "source": [
    "# 获取上面计算结果的实部\n",
    "c_gpu_real = cl_array.empty(queue, len(a_gpu), dtype=numpy.float32)\n",
    "real_part(c_gpu, c_gpu_real)\n",
    "print(c_gpu.get().real - c_gpu_real.get())"
   ]
  },
  {
   "cell_type": "code",
   "execution_count": 8,
   "metadata": {},
   "outputs": [
    {
     "name": "stdout",
     "output_type": "stream",
     "text": [
      "0.0001351835\n"
     ]
    }
   ],
   "source": [
    "# CPU验证\n",
    "print(la.norm(c_gpu.get() - (5*a_gpu.get()*b_gpu.get())))\n",
    "assert la.norm(c_gpu.get() - (5*a_gpu.get()*b_gpu.get())) < 1e-3"
   ]
  },
  {
   "cell_type": "code",
   "execution_count": null,
   "metadata": {},
   "outputs": [],
   "source": []
  }
 ],
 "metadata": {
  "kernelspec": {
   "display_name": "Python 3",
   "language": "python",
   "name": "python3"
  },
  "language_info": {
   "codemirror_mode": {
    "name": "ipython",
    "version": 3
   },
   "file_extension": ".py",
   "mimetype": "text/x-python",
   "name": "python",
   "nbconvert_exporter": "python",
   "pygments_lexer": "ipython3",
   "version": "3.7.4"
  }
 },
 "nbformat": 4,
 "nbformat_minor": 4
}
