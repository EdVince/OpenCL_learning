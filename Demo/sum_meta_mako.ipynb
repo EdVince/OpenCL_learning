{
 "cells": [
  {
   "cell_type": "code",
   "execution_count": 1,
   "metadata": {},
   "outputs": [],
   "source": [
    "import pyopencl as cl\n",
    "import numpy\n",
    "import numpy.linalg as la\n",
    "from mako.template import Template"
   ]
  },
  {
   "cell_type": "code",
   "execution_count": 2,
   "metadata": {},
   "outputs": [],
   "source": [
    "local_size = 256\n",
    "thread_strides = 32\n",
    "macroblock_count = 33\n",
    "dtype = numpy.float32\n",
    "total_size = local_size*thread_strides*macroblock_count"
   ]
  },
  {
   "cell_type": "code",
   "execution_count": 3,
   "metadata": {},
   "outputs": [],
   "source": [
    "ctx = cl.create_some_context()\n",
    "queue = cl.CommandQueue(ctx)"
   ]
  },
  {
   "cell_type": "code",
   "execution_count": 4,
   "metadata": {},
   "outputs": [],
   "source": [
    "a = numpy.random.randn(total_size).astype(dtype)\n",
    "b = numpy.random.randn(total_size).astype(dtype)"
   ]
  },
  {
   "cell_type": "code",
   "execution_count": 5,
   "metadata": {},
   "outputs": [],
   "source": [
    "mf = cl.mem_flags\n",
    "a_buf = cl.Buffer(ctx, mf.READ_ONLY | mf.COPY_HOST_PTR, hostbuf=a)\n",
    "b_buf = cl.Buffer(ctx, mf.READ_ONLY | mf.COPY_HOST_PTR, hostbuf=b)\n",
    "c_buf = cl.Buffer(ctx, mf.WRITE_ONLY, b.nbytes)"
   ]
  },
  {
   "cell_type": "code",
   "execution_count": 6,
   "metadata": {},
   "outputs": [],
   "source": [
    "tpl = Template(\"\"\"\n",
    "__kernel void add(__global ${type_name}*tgt,__global const ${type_name}*op1,__global const ${type_name}*op2)\n",
    "{\n",
    "  int idx = get_local_id(0) + ${local_size} * ${thread_strides} * get_group_id(0);\n",
    "  % for i in range(thread_strides):\n",
    "      <% offset = i*local_size %>\n",
    "      tgt[idx + ${offset}] = op1[idx + ${offset}] + op2[idx + ${offset}];\n",
    "  % endfor\n",
    "}\n",
    "\"\"\")"
   ]
  },
  {
   "cell_type": "code",
   "execution_count": 8,
   "metadata": {},
   "outputs": [],
   "source": [
    "rendered_tpl = tpl.render(type_name=\"float\", local_size=local_size, thread_strides=thread_strides)"
   ]
  },
  {
   "cell_type": "code",
   "execution_count": 10,
   "metadata": {},
   "outputs": [
    {
     "data": {
      "text/plain": [
       "<pyopencl._cl.Event at 0x269102daca8>"
      ]
     },
     "execution_count": 10,
     "metadata": {},
     "output_type": "execute_result"
    }
   ],
   "source": [
    "knl = cl.Program(ctx, str(rendered_tpl)).build().add\n",
    "knl(queue, (local_size*macroblock_count,), (local_size,), c_buf, a_buf, b_buf)"
   ]
  },
  {
   "cell_type": "code",
   "execution_count": 11,
   "metadata": {},
   "outputs": [],
   "source": [
    "c = numpy.empty_like(a)\n",
    "cl.enqueue_copy(queue, c, c_buf).wait()\n",
    "assert la.norm(c-(a+b)) == 0"
   ]
  },
  {
   "cell_type": "code",
   "execution_count": null,
   "metadata": {},
   "outputs": [],
   "source": []
  }
 ],
 "metadata": {
  "kernelspec": {
   "display_name": "Python 3",
   "language": "python",
   "name": "python3"
  },
  "language_info": {
   "codemirror_mode": {
    "name": "ipython",
    "version": 3
   },
   "file_extension": ".py",
   "mimetype": "text/x-python",
   "name": "python",
   "nbconvert_exporter": "python",
   "pygments_lexer": "ipython3",
   "version": "3.7.4"
  }
 },
 "nbformat": 4,
 "nbformat_minor": 4
}
