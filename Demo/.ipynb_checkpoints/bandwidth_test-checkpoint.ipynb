{
 "cells": [
  {
   "cell_type": "code",
   "execution_count": 1,
   "metadata": {},
   "outputs": [],
   "source": [
    "import pyopencl as cl\n",
    "import pyopencl.characterize.performance as perf"
   ]
  },
  {
   "cell_type": "code",
   "execution_count": 2,
   "metadata": {},
   "outputs": [],
   "source": [
    "%load_ext pyopencl.ipython_ext"
   ]
  },
  {
   "cell_type": "code",
   "execution_count": 3,
   "metadata": {},
   "outputs": [],
   "source": [
    "def main():\n",
    "    ctx = cl.create_some_context()\n",
    "\n",
    "    prof_overhead, latency = perf.get_profiling_overhead(ctx)\n",
    "    print(\"command latency: %g s\" % latency)\n",
    "    print(\"profiling overhead: {:g} s -> {:.1f} %\".format(prof_overhead, 100*prof_overhead/latency))\n",
    "    queue = cl.CommandQueue(ctx, properties=cl.command_queue_properties.PROFILING_ENABLE)\n",
    "    print(\"empty kernel: %g s\" % perf.get_empty_kernel_time(queue))\n",
    "    print(\"float32 add: %g GOps/s\" % (perf.get_add_rate(queue)/1e9))\n",
    "\n",
    "    for tx_type in [perf.HostToDeviceTransfer,perf.DeviceToHostTransfer,perf.DeviceToDeviceTransfer]:\n",
    "        print(\"----------------------------------------\")\n",
    "        print(tx_type.__name__)\n",
    "        print(\"----------------------------------------\")\n",
    "\n",
    "        print(\"latency: %g s\" % perf.transfer_latency(queue, tx_type))\n",
    "        for i in range(6, 31, 2):\n",
    "            bs = 1 << i\n",
    "            try:\n",
    "                result = \"%g GB/s\" % (perf.transfer_bandwidth(queue, tx_type, bs)/1e9)\n",
    "            except Exception as e:\n",
    "                result = \"exception: %s\" % e.__class__.__name__\n",
    "            print(\"bandwidth @ %d bytes: %s\" % (bs, result))"
   ]
  },
  {
   "cell_type": "code",
   "execution_count": 4,
   "metadata": {},
   "outputs": [
    {
     "name": "stdout",
     "output_type": "stream",
     "text": [
      "command latency: 1.24043e-05 s\n",
      "profiling overhead: 2.55568e-06 s -> 20.6 %\n",
      "empty kernel: 1.62066e-05 s\n",
      "20 1270713.9176630285 0\n",
      "40 4487476.445532174 0\n",
      "80 9333983.774609197 0\n",
      "160 19898110.225714393 0\n",
      "320 39873529.81833964 0\n",
      "640 78979370.8909612 0\n",
      "1280 171124461.46184033 0\n",
      "2560 333898305.69613856 0\n",
      "5120 690245653.1469094 0\n",
      "10240 1283420677.1253548 0\n",
      "20480 2714950782.6877112 0\n",
      "40960 5054761069.216624 0\n",
      "81920 10409676094.22101 0\n",
      "163840 21544392889.073513 0\n",
      "327680 30039095565.755928 0\n",
      "655360 42252800898.30926 0\n",
      "1310720 48901822247.469734 0\n",
      "2621440 52899204939.90116 0\n",
      "5242880 55723671681.119026 0\n",
      "10485760 57596208893.452065 0\n",
      "float32 add: 28798.1 GOps/s\n",
      "----------------------------------------\n",
      "HostToDeviceTransfer\n",
      "----------------------------------------\n",
      "latency: 6.7943e-05 s\n",
      "bandwidth @ 64 bytes: 0.000896714 GB/s\n",
      "bandwidth @ 256 bytes: 0.00427807 GB/s\n",
      "bandwidth @ 1024 bytes: 0.015211 GB/s\n",
      "bandwidth @ 4096 bytes: 0.0602853 GB/s\n",
      "bandwidth @ 16384 bytes: 0.24114 GB/s\n",
      "bandwidth @ 65536 bytes: 0.834433 GB/s\n",
      "bandwidth @ 262144 bytes: 2.56432 GB/s\n",
      "bandwidth @ 1048576 bytes: 4.97692 GB/s\n",
      "bandwidth @ 4194304 bytes: 5.90528 GB/s\n",
      "bandwidth @ 16777216 bytes: 6.11717 GB/s\n",
      "bandwidth @ 67108864 bytes: 5.23354 GB/s\n",
      "bandwidth @ 268435456 bytes: 6.2594 GB/s\n",
      "bandwidth @ 1073741824 bytes: 5.63669 GB/s\n",
      "----------------------------------------\n",
      "DeviceToHostTransfer\n",
      "----------------------------------------\n",
      "latency: 9.22546e-05 s\n",
      "bandwidth @ 64 bytes: 0.000814737 GB/s\n",
      "bandwidth @ 256 bytes: 0.00283237 GB/s\n",
      "bandwidth @ 1024 bytes: 0.0135767 GB/s\n",
      "bandwidth @ 4096 bytes: 0.045633 GB/s\n",
      "bandwidth @ 16384 bytes: 0.217226 GB/s\n",
      "bandwidth @ 65536 bytes: 0.790502 GB/s\n",
      "bandwidth @ 262144 bytes: 1.83633 GB/s\n",
      "bandwidth @ 1048576 bytes: 4.16385 GB/s\n",
      "bandwidth @ 4194304 bytes: 4.70548 GB/s\n",
      "bandwidth @ 16777216 bytes: 6.06196 GB/s\n",
      "bandwidth @ 67108864 bytes: 6.53289 GB/s\n",
      "bandwidth @ 268435456 bytes: 6.68702 GB/s\n",
      "bandwidth @ 1073741824 bytes: 6.60434 GB/s\n",
      "----------------------------------------\n",
      "DeviceToDeviceTransfer\n",
      "----------------------------------------\n",
      "latency: 1.22329e-05 s\n",
      "bandwidth @ 64 bytes: 0.00516598 GB/s\n",
      "bandwidth @ 256 bytes: 0.0209271 GB/s\n",
      "bandwidth @ 1024 bytes: 0.081125 GB/s\n",
      "bandwidth @ 4096 bytes: 0.325304 GB/s\n",
      "bandwidth @ 16384 bytes: 1.32249 GB/s\n",
      "bandwidth @ 65536 bytes: 5.05473 GB/s\n",
      "bandwidth @ 262144 bytes: 21.4294 GB/s\n",
      "bandwidth @ 1048576 bytes: 35.9897 GB/s\n",
      "bandwidth @ 4194304 bytes: 38.451 GB/s\n",
      "bandwidth @ 16777216 bytes: 44.8585 GB/s\n",
      "bandwidth @ 67108864 bytes: 45.2371 GB/s\n",
      "bandwidth @ 268435456 bytes: 43.764 GB/s\n",
      "bandwidth @ 1073741824 bytes: exception: MemoryError\n"
     ]
    }
   ],
   "source": [
    "main()"
   ]
  },
  {
   "cell_type": "code",
   "execution_count": null,
   "metadata": {},
   "outputs": [],
   "source": []
  }
 ],
 "metadata": {
  "kernelspec": {
   "display_name": "Python 3",
   "language": "python",
   "name": "python3"
  },
  "language_info": {
   "codemirror_mode": {
    "name": "ipython",
    "version": 3
   },
   "file_extension": ".py",
   "mimetype": "text/x-python",
   "name": "python",
   "nbconvert_exporter": "python",
   "pygments_lexer": "ipython3",
   "version": "3.7.4"
  }
 },
 "nbformat": 4,
 "nbformat_minor": 4
}
