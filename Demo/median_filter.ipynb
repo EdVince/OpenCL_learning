{
 "cells": [
  {
   "cell_type": "code",
   "execution_count": 1,
   "metadata": {},
   "outputs": [],
   "source": [
    "import pyopencl as cl\n",
    "import numpy as np\n",
    "from imageio import imread, imsave"
   ]
  },
  {
   "cell_type": "code",
   "execution_count": 2,
   "metadata": {},
   "outputs": [
    {
     "name": "stdout",
     "output_type": "stream",
     "text": [
      "(512, 512, 3)\n",
      "(512, 512)\n"
     ]
    }
   ],
   "source": [
    "# Read in image\n",
    "img = imread(\"lena_std.tif\").astype(np.float32)\n",
    "print(img.shape)\n",
    "img = np.mean(img, axis=2)\n",
    "print(img.shape)"
   ]
  },
  {
   "cell_type": "code",
   "execution_count": 3,
   "metadata": {},
   "outputs": [],
   "source": [
    "ctx = cl.create_some_context()\n",
    "queue = cl.CommandQueue(ctx)"
   ]
  },
  {
   "cell_type": "code",
   "execution_count": 4,
   "metadata": {},
   "outputs": [],
   "source": [
    "mf = cl.mem_flags\n",
    "img_g = cl.Buffer(ctx, mf.READ_ONLY | mf.COPY_HOST_PTR, hostbuf=img)\n",
    "result_g = cl.Buffer(ctx, mf.WRITE_ONLY, img.nbytes)\n",
    "width_g = cl.Buffer(ctx, mf.READ_ONLY | mf.COPY_HOST_PTR, hostbuf=np.int32(img.shape[1]))\n",
    "height_g = cl.Buffer(ctx, mf.READ_ONLY | mf.COPY_HOST_PTR, hostbuf=np.int32(img.shape[0]))"
   ]
  },
  {
   "cell_type": "code",
   "execution_count": 5,
   "metadata": {},
   "outputs": [],
   "source": [
    "src = \"\"\"\n",
    "void sort(int *a, int *b, int *c) {\n",
    "   int swap;\n",
    "   if(*a > *b) {\n",
    "      swap = *a;\n",
    "      *a = *b;\n",
    "      *b = swap;\n",
    "   }\n",
    "   if(*a > *c) {\n",
    "      swap = *a;\n",
    "      *a = *c;\n",
    "      *c = swap;\n",
    "   }\n",
    "   if(*b > *c) {\n",
    "      swap = *b;\n",
    "      *b = *c;\n",
    "      *c = swap;\n",
    "   }\n",
    "}\n",
    "__kernel void medianFilter(__global float *img, __global float *result, __global int *width, __global int *height)\n",
    "{\n",
    "    int w = *width;\n",
    "    int h = *height;\n",
    "    int posx = get_global_id(1);\n",
    "    int posy = get_global_id(0);\n",
    "    int i = w*posy + posx;\n",
    "    // Keeping the edge pixels the same\n",
    "    if( posx == 0 || posy == 0 || posx == w-1 || posy == h-1 ) {\n",
    "        result[i] = img[i];\n",
    "    }\n",
    "    else {\n",
    "        int pixel00, pixel01, pixel02, pixel10, pixel11, pixel12, pixel20, pixel21, pixel22;\n",
    "        pixel00 = img[i - 1 - w]; pixel01 = img[i - w]; pixel02 = img[i + 1 - w];\n",
    "        pixel10 = img[i - 1];     pixel11 = img[i];     pixel12 = img[i + 1];\n",
    "        pixel20 = img[i - 1 + w]; pixel21 = img[i + w]; pixel22 = img[i + 1 + w];\n",
    "        //sort the rows\n",
    "        sort( &(pixel00), &(pixel01), &(pixel02) );\n",
    "        sort( &(pixel10), &(pixel11), &(pixel12) );\n",
    "        sort( &(pixel20), &(pixel21), &(pixel22) );\n",
    "        //sort the columns\n",
    "        sort( &(pixel00), &(pixel10), &(pixel20) );\n",
    "        sort( &(pixel01), &(pixel11), &(pixel21) );\n",
    "        sort( &(pixel02), &(pixel12), &(pixel22) );\n",
    "        //sort the diagonal\n",
    "        sort( &(pixel00), &(pixel11), &(pixel22) );\n",
    "        // median is the the middle value of the diagonal\n",
    "        result[i] = pixel11;\n",
    "    }\n",
    "}\n",
    "\"\"\""
   ]
  },
  {
   "cell_type": "code",
   "execution_count": 6,
   "metadata": {},
   "outputs": [],
   "source": [
    "# Kernel function instantiation\n",
    "prg = cl.Program(ctx, src).build()"
   ]
  },
  {
   "cell_type": "code",
   "execution_count": 7,
   "metadata": {},
   "outputs": [
    {
     "data": {
      "text/plain": [
       "<pyopencl._cl.NannyEvent at 0x1bccdbab528>"
      ]
     },
     "execution_count": 7,
     "metadata": {},
     "output_type": "execute_result"
    }
   ],
   "source": [
    "# Call Kernel. Automatically takes care of block/grid distribution\n",
    "prg.medianFilter(queue, img.shape, None, img_g, result_g, width_g, height_g)\n",
    "result = np.empty_like(img)\n",
    "cl.enqueue_copy(queue, result, result_g)"
   ]
  },
  {
   "cell_type": "code",
   "execution_count": 8,
   "metadata": {},
   "outputs": [
    {
     "name": "stderr",
     "output_type": "stream",
     "text": [
      "Lossy conversion from float32 to uint8. Range [39.0, 231.0]. Convert image to uint8 prior to saving to suppress this warning.\n"
     ]
    }
   ],
   "source": [
    "# Show the blurred image\n",
    "imsave(\"medianFilter-OpenCL.jpg\", result)"
   ]
  },
  {
   "cell_type": "code",
   "execution_count": null,
   "metadata": {},
   "outputs": [],
   "source": []
  }
 ],
 "metadata": {
  "kernelspec": {
   "display_name": "Python 3",
   "language": "python",
   "name": "python3"
  },
  "language_info": {
   "codemirror_mode": {
    "name": "ipython",
    "version": 3
   },
   "file_extension": ".py",
   "mimetype": "text/x-python",
   "name": "python",
   "nbconvert_exporter": "python",
   "pygments_lexer": "ipython3",
   "version": "3.7.4"
  }
 },
 "nbformat": 4,
 "nbformat_minor": 4
}
